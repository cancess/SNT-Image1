{
 "cells": [
  {
   "cell_type": "markdown",
   "metadata": {
    "colab_type": "text",
    "id": "9Q4LxrChYso0"
   },
   "source": [
    "# __Traiter une image numérique à l'aide du langage de programmation Python__"
   ]
  },
  {
   "cell_type": "markdown",
   "metadata": {
    "colab_type": "text",
    "id": "j3u6EYUMYso2"
   },
   "source": [
    "# I-Quelques bases en python #"
   ]
  },
  {
   "cell_type": "markdown",
   "metadata": {
    "colab_type": "text",
    "id": "F2xdaFvtA5JB"
   },
   "source": [
    "## 1 - Les commentaires \n",
    "Dans un script, tout ce qui suit __le caractère #__ est ignoré par Python jusqu’à la fin de la ligne et est considéré comme un commentaire. Les commentaires expliquent le code dans un langage humain. "
   ]
  },
  {
   "cell_type": "code",
   "execution_count": null,
   "metadata": {
    "colab": {},
    "colab_type": "code",
    "id": "gxElho4BYso4"
   },
   "outputs": [],
   "source": [
    "# cette ligne est un commentaire"
   ]
  },
  {
   "cell_type": "markdown",
   "metadata": {},
   "source": [
    "## 2 - La fonction print()  \n",
    "Elle affiche l'argument qu'on lui place entre parenthèse.  \n",
    "Pour afficher une chaine de caractères il faut la placer entre guillemets \n",
    "> __Travail à faire__  \n",
    "-Exécuter le programme ci-dessous, observer le résultat.  \n",
    "-Supprimer les guillemets autour du mot bonjour, exécuter le programme, observer"
   ]
  },
  {
   "cell_type": "code",
   "execution_count": null,
   "metadata": {},
   "outputs": [],
   "source": [
    "print(\"bonjour\")\n",
    "print(3+2)"
   ]
  },
  {
   "cell_type": "markdown",
   "metadata": {
    "colab_type": "text",
    "id": "LmBie1rXlU1m"
   },
   "source": [
    "## 3 - Les variables \n",
    "> Définition et nom d’une variable \n",
    "\n",
    "Une variable est une zone de la mémoire dans laquelle une valeur est stockée. Aux yeux du programmeur, cette variable est définie par un nom.\n",
    "\n",
    "> Nommage \n",
    "\n",
    "Le nom des variables en Python peut-être constitué de lettres minuscules (a à z), de lettres majuscules (A à Z), de nombres (0 à 9) ou du caractère _. Néanmoins, un nom de variable ne doit pas débuter ni par un chiffre, ni par _ et ne peut pas contenir de caractère accentué. Il est interdit d’utiliser un mot “réservé” par Python comme nom de variable (par exemple : print, range, for, from, ...). \n",
    "Python est sensible à la casse, ce qui signifie que les variables TesT, test ou TEST sont différentes. Enfin, vous ne pouvez pas utiliser d’espace dans un nom de variable. \n",
    "\n",
    "\n",
    "En Python, la déclaration d’une variable et son initialisation (c’est-à-dire la première valeur que l’on va stocker dedans) se font en même temps. \n",
    "\n",
    "\n",
    "> Affectation d'une variable : \n",
    "\n",
    "En Python, x=x+1 n'est ni une égalité, ni une équation.  C'est une instruction d'affectation, qui va modifier le contenu de la variable x. Il est d'ailleurs recommandé de lire cette instruction « x reçoit la valeur x+1 » et non pas « x est égal à x+1 ». \n",
    "\n",
    "Un modèle de la variable informatique consiste à dire qu'une variable est une étiquette collée sur une boîte qui peut contenir différentes valeurs. Le contenu de chaque boîte varie au cours de l'exécution du programme. Dans l'exemple ci-dessus , la valeur stockée dans la boite étiquetée \"x\" est \"sortie\", \"additionnée à 1\", la nouvelle valeur est remise dans la boite.\n"
   ]
  },
  {
   "cell_type": "markdown",
   "metadata": {
    "colab_type": "text",
    "id": "d-BZZ8gEYso8"
   },
   "source": [
    "> __Travail à faire :__ \n",
    "\n",
    "* Analyser le code ci-dessous.  \n",
    "* Prévoir les valeurs des variables a, b et c après exécution du programme.  \n",
    "* Ecrire dans la cellule ci-dessous ce qui sera affiché à l'écran après exécution du programe"
   ]
  },
  {
   "cell_type": "markdown",
   "metadata": {},
   "source": []
  },
  {
   "cell_type": "markdown",
   "metadata": {
    "colab_type": "text",
    "id": "d-BZZ8gEYso8"
   },
   "source": [
    "* Vérifier par l'exécution du code ci-dessous "
   ]
  },
  {
   "cell_type": "code",
   "execution_count": null,
   "metadata": {
    "colab": {
     "base_uri": "https://localhost:8080/",
     "height": 69
    },
    "colab_type": "code",
    "executionInfo": {
     "elapsed": 930,
     "status": "ok",
     "timestamp": 1578826404472,
     "user": {
      "displayName": "cancesfoch",
      "photoUrl": "https://lh3.googleusercontent.com/a-/AAuE7mAFQvvsD-I08kCAJ2TU9-iVrXXquy6tXjuy2pUbWA=s64",
      "userId": "07938637001975315364"
     },
     "user_tz": -60
    },
    "id": "NDjFEQG4Yso8",
    "outputId": "b9b96c0b-bd43-4f14-835b-65615f3be678"
   },
   "outputs": [],
   "source": [
    "a=2\n",
    "b=4\n",
    "c=6\n",
    "a=c\n",
    "b=a\n",
    "c=b\n",
    "print(\"a=\", a)\n",
    "print(\"b=\", b)\n",
    "print(\"c=\", c)"
   ]
  },
  {
   "cell_type": "markdown",
   "metadata": {
    "colab_type": "text",
    "id": "kLi0grlaYspK"
   },
   "source": [
    "## 4 – Répétition en nombre connu : la boucle __for__\n",
    "\n",
    "En programmation, on est souvent amené à __répéter plusieurs fois un bloc d'instructions.__ Incontournables à tout langage de programmation, les boucles vont nous aider à réaliser cette tâche.\n",
    "\n",
    "Python  propose  une  instruction  __for__ _variable_ __in__ _liste_ qui  permet  d’exécuter  un  bloc  d’instructions en donnant successivement à la __variable__ les différentes valeurs de la __liste__.\n",
    "\n",
    "L’instruction for permet de __répéter un bloc d’instruction, un nombre connu de fois__. \n",
    "\n",
    "> Syntaxe \n",
    "\n",
    "Placer le signe deux-points __« : »__ à la fin de la ligne for.  \n",
    "Cela signifie que la boucle for attend un bloc d’instructions, c'est à dire toutes les instructions que Python répètera à chaque itération de la boucle. On appelle ce bloc d’instructions le corps de la boucle. \n",
    "\n",
    "Comment indique-t-on à Python où commence ce bloc et où il se termine ?  \n",
    "Cela est signalé uniquement par __l’indentation__, c’est-à-dire le __décalage__ de la (ou des) ligne(s) du bloc d’instructions.\n",
    "\n",
    "Comment indiquer le nombre de répétitions du corps de la boucle ?  \n",
    "Python possède la fonction __range()__ qui permet de faire une boucle sur une liste d’entiers de manière automatique :\n",
    "\n",
    "> la fonction range()\n",
    "\n",
    "la syntaxe est range(start, stop, step))\n",
    "\n",
    ">__Travail à faire__  \n",
    "Analyser les programme ci-dessous (lire attentivement les commentaires)  \n",
    "Exécuter, observer le résultats"
   ]
  },
  {
   "cell_type": "code",
   "execution_count": null,
   "metadata": {
    "colab": {},
    "colab_type": "code",
    "id": "m6a70ejjYspK"
   },
   "outputs": [],
   "source": [
    "#la variable d'itération choisie ici est i (nom au choix)\n",
    "\n",
    "#dans cet exemple il n'y a qu'une instruction print(i) dans le bloc\n",
    "\n",
    "#le bloc d'instruction va être répété pour des valeurs de i allant de 0 à 3\n",
    "\n",
    "for i in range(4) :\n",
    "    print(i)"
   ]
  },
  {
   "cell_type": "code",
   "execution_count": null,
   "metadata": {},
   "outputs": [],
   "source": [
    "for i in range(2,5) :\n",
    "    print(i)"
   ]
  },
  {
   "cell_type": "code",
   "execution_count": null,
   "metadata": {},
   "outputs": [],
   "source": [
    "for i in range(0,5,2) :\n",
    "    print(i)"
   ]
  },
  {
   "cell_type": "markdown",
   "metadata": {
    "colab_type": "text",
    "id": "gXcDznxLYspQ"
   },
   "source": [
    "> __Travail à faire__\n",
    "\n",
    "Dans les cellules de code ci-dessous, concevoir un code utilisant une boucle for qui permet d'afficher les nombres 0,1,2,3,4,5,6,7"
   ]
  },
  {
   "cell_type": "code",
   "execution_count": null,
   "metadata": {
    "colab": {},
    "colab_type": "code",
    "id": "ChXRi115YspQ"
   },
   "outputs": [],
   "source": []
  },
  {
   "cell_type": "markdown",
   "metadata": {
    "colab_type": "text",
    "id": "gXcDznxLYspQ"
   },
   "source": [
    "> __Travail à faire__\n",
    "\n",
    "Dans les cellules de code ci-dessous, concevoir un code utilisant une boucle for qui permet d'afficher les nombres 3,6,9,12,15"
   ]
  },
  {
   "cell_type": "code",
   "execution_count": null,
   "metadata": {},
   "outputs": [],
   "source": []
  },
  {
   "cell_type": "markdown",
   "metadata": {},
   "source": [
    ">Deux boucles for imbriquées pour balayer les coordonnées des pixels d'une image  \n",
    "\n",
    "Considérons une image de taille 5 pixels par 3 pixels  \n",
    "Chaque pixel est repéré par un couple de point (x, y) voir tableau ci-dessous\n",
    "\n",
    "![](Tableau.png)  \n",
    "\n",
    ">__Travail à faire__\n",
    "\n",
    "Analyser (lire commentaires) et executer le code ci-dessous, observer le résultat"
   ]
  },
  {
   "cell_type": "code",
   "execution_count": null,
   "metadata": {},
   "outputs": [],
   "source": [
    "for x in range(5) :\n",
    "    for y in range (3) :\n",
    "        coordonnee = (x,y) # creation d'un couple de valeurs nommé coordonnee\n",
    "        print (coordonnee)"
   ]
  },
  {
   "cell_type": "markdown",
   "metadata": {},
   "source": [
    ">__Travail à faire__\n",
    "\n",
    "Le code précédent permet d'afficher les coordonnées de tous les points de l'image.   \n",
    "La valeur de x (numéro de colonne) est fixée à 0, les valeurs de y (numéro de ligne) sont balayées de 0 à 3  \n",
    "PUIS, la valeur de x est fixée à 1, les valeurs de y sont balayées de 0 à 3 etc...  \n",
    "\n",
    "De sorte que les pixels sont balayés par colonne\n",
    "\n",
    "Copier-coller le code précédent dans la cellule ci-dessous et le modifier pour réaliser un balayage des coordonnées par ligne"
   ]
  },
  {
   "cell_type": "code",
   "execution_count": null,
   "metadata": {},
   "outputs": [],
   "source": []
  },
  {
   "cell_type": "markdown",
   "metadata": {
    "colab_type": "text",
    "id": "cR_WtpqxYspV"
   },
   "source": [
    "## 4 - La bibliothèque PIL pour traiter les images ##\n",
    "\n",
    "> Fonction _new_ ; fonction _show_ ; fonction _putpixel_\n",
    "\n",
    "La fonction new du module Image est appelée par l'instruction \n",
    "\n",
    "__Image.new(mode,(largeur,hauteur),(R,V,B)).__\n",
    "\n",
    "Elle retourne une image qui devra être __stockée dans une variable__\n",
    "\n",
    "Quand une __variable__ qui stocke une image est suivie de __.show__, l'image est affichée à l'écran"
   ]
  },
  {
   "cell_type": "code",
   "execution_count": null,
   "metadata": {},
   "outputs": [],
   "source": [
    "#Pour traiter des images en python il faut importer le module Image de la bibliothèque PIL\n",
    "from PIL import Image\n",
    "#creation d'une variable appelée carrecyan \n",
    "#dans laquelle sera stockée une image en mode couleur RGB\n",
    "#de 150 pixels par 100 pixels\n",
    "#de couleur cyan\n",
    "carrecyan = Image.new('RGB', (150, 100),(0,255,255))\n",
    "carrecyan.show()"
   ]
  },
  {
   "cell_type": "markdown",
   "metadata": {},
   "source": [
    ">__Travail à réaliser__  \n",
    "Dans la cellule ci-dessous copier coller le code précédent et le modifier pour créer une image de 300 pixel par 200 pixel, nommée rectanglerouge, de couleur rouge.\n",
    "\n",
    "Vous modifierez les commentaires pour qu'ils soient en accord avec votre code"
   ]
  },
  {
   "cell_type": "code",
   "execution_count": null,
   "metadata": {},
   "outputs": [],
   "source": []
  },
  {
   "cell_type": "markdown",
   "metadata": {},
   "source": [
    ">La fonction putpixel\n",
    "\n",
    "Quand une __variable__ qui stocke une image est suivie de __.putpixel((x,y),(R,V,B))__\n",
    "Le pixel de coordonnées (x,y) de cette image est coloré en (R,V,B)\n",
    "\n",
    ">__Travail à réaliser__\n",
    "\n",
    "Analyser, exécuter le code ci-dessous. Observer le résultat"
   ]
  },
  {
   "cell_type": "code",
   "execution_count": null,
   "metadata": {},
   "outputs": [],
   "source": [
    "#Pour traiter des images en python il faut importer le module Image de la bibliothèque PIL\n",
    "from PIL import Image\n",
    "#creation d'une variable appelée carrecyan \n",
    "#dans laquelle sera stockée une image en mode couleur RGB\n",
    "#de 150 pixels par 100 pixels\n",
    "#de couleur cyan\n",
    "cyanrouge = Image.new('RGB', (150, 100),(0,255,255))\n",
    "for x in range (50) :\n",
    "    for y in range (20) :\n",
    "        cyanrouge.putpixel((x,y),(255,0,0))\n",
    "cyanrouge.show()"
   ]
  },
  {
   "cell_type": "markdown",
   "metadata": {},
   "source": [
    ">__Travail à réaliser__\n",
    "\n",
    "Copier coller des séquences d'instructions parmi les codes précédents pour créer une image nommée drapeau_allemand de 300 pixels par 200 pixels qui représente le drapeau allemand ci-dessous :\n",
    "\n",
    "![](Allemand.png)"
   ]
  },
  {
   "cell_type": "code",
   "execution_count": null,
   "metadata": {},
   "outputs": [],
   "source": []
  },
  {
   "cell_type": "markdown",
   "metadata": {},
   "source": [
    ">__Travail à réaliser__\n",
    "\n",
    "Copier coller des séquences d'instructions parmi les codes précédents pour créer une image nommée drapeau_francais de 300 pixels par 200 pixels qui représente le drapeau francais ci-dessous :\n",
    "\n",
    "![](Francais.png)"
   ]
  },
  {
   "cell_type": "code",
   "execution_count": null,
   "metadata": {},
   "outputs": [],
   "source": []
  }
 ],
 "metadata": {
  "colab": {
   "name": "2NDE_Trace_Trajectoire.ipynb",
   "provenance": []
  },
  "kernelspec": {
   "display_name": "Python 3",
   "language": "python",
   "name": "python3"
  },
  "language_info": {
   "codemirror_mode": {
    "name": "ipython",
    "version": 3
   },
   "file_extension": ".py",
   "mimetype": "text/x-python",
   "name": "python",
   "nbconvert_exporter": "python",
   "pygments_lexer": "ipython3",
   "version": "3.7.1"
  }
 },
 "nbformat": 4,
 "nbformat_minor": 2
}
